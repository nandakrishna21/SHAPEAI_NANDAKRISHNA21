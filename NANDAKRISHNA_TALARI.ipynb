{
  "nbformat": 4,
  "nbformat_minor": 0,
  "metadata": {
    "colab": {
      "name": "NANDAKRISHNA_TALARI.ipynb",
      "private_outputs": true,
      "provenance": []
    },
    "kernelspec": {
      "name": "python3",
      "display_name": "Python 3"
    },
    "language_info": {
      "name": "python"
    }
  },
  "cells": [
    {
      "cell_type": "code",
      "metadata": {
        "id": "KjJv_DB331SX"
      },
      "source": [
        ""
      ],
      "execution_count": null,
      "outputs": []
    },
    {
      "cell_type": "code",
      "metadata": {
        "id": "LR_oKDcn3-Ju"
      },
      "source": [
        " ## IMPORTING DATASET\n",
        " from keras.datasets import mnist\n",
        "\n",
        " data = mnist.load_data()\n",
        " "
      ],
      "execution_count": null,
      "outputs": []
    },
    {
      "cell_type": "code",
      "metadata": {
        "id": "7VuFiK9T4Php"
      },
      "source": [
        "(X_train, y_train), (X_test, y_test) = data"
      ],
      "execution_count": null,
      "outputs": []
    },
    {
      "cell_type": "code",
      "metadata": {
        "id": "nxfv_Q1K865j"
      },
      "source": [
        "X_train = X_train.reshape((X_train.shape[0], 28*28)).astype( 'float32')\n",
        "X_train = X_test.reshape((X_test.shape[0], 28*28)).astype( 'float32')\n"
      ],
      "execution_count": null,
      "outputs": []
    },
    {
      "cell_type": "code",
      "metadata": {
        "id": "DNicw7CV9hVA"
      },
      "source": [
        " X_train = X_train /255\n",
        "  X_test = X_test /255"
      ],
      "execution_count": null,
      "outputs": []
    },
    {
      "cell_type": "code",
      "metadata": {
        "id": "gXFaGyu-9u7t"
      },
      "source": [
        "  from keras.utils import np_utils\n",
        "\n",
        "  print(y_test.shape)\n",
        "\n",
        "  y_train = np_utils.to_categorically_train)\n",
        "  y_test = np_utils.to_categorically_test)\n",
        "\n",
        "  num_classes = y_test.shape[1]\n",
        "  printly_test.shape)\n",
        "  "
      ],
      "execution_count": null,
      "outputs": []
    },
    {
      "cell_type": "code",
      "metadata": {
        "id": "-376Kz5c_edm"
      },
      "source": [
        "(10000, )\n",
        "(10000, 10)"
      ],
      "execution_count": null,
      "outputs": []
    },
    {
      "cell_type": "code",
      "metadata": {
        "id": "joTjzquv_koW"
      },
      "source": [
        "from keras.models import Sequential\n",
        "from keras.layers import Dense"
      ],
      "execution_count": null,
      "outputs": []
    },
    {
      "cell_type": "code",
      "metadata": {
        "id": "8ILFgTdN_5h6"
      },
      "source": [
        " model = Sequential()\n",
        " mmodel.add(Dense(32, input_dim =28*28, activation 'relu'))\n",
        " model.add(Dense(64, activation='relu'))\n",
        " model.add(Dense[10, activation= 'softmax'])"
      ],
      "execution_count": null,
      "outputs": []
    },
    {
      "cell_type": "code",
      "metadata": {
        "id": "Ex6lolS3Cl1f"
      },
      "source": [
        "model.compile(loss='categorical_crossentropy',optimizer='adam',metrics=['accuracy'])"
      ],
      "execution_count": null,
      "outputs": []
    },
    {
      "cell_type": "code",
      "metadata": {
        "id": "LFDTqcgjDSwv"
      },
      "source": [
        "model.summary[]"
      ],
      "execution_count": null,
      "outputs": []
    },
    {
      "cell_type": "code",
      "metadata": {
        "id": "3LhLf1CQ_6GH"
      },
      "source": [
        ""
      ],
      "execution_count": null,
      "outputs": []
    }
  ]
}